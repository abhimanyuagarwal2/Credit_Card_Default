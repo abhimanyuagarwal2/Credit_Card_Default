{
 "cells": [
  {
   "cell_type": "code",
   "execution_count": 1,
   "id": "7f2b64fc",
   "metadata": {},
   "outputs": [
    {
     "name": "stderr",
     "output_type": "stream",
     "text": [
      "C:\\Users\\shant\\.conda\\envs\\amex\\lib\\site-packages\\pyarrow\\compute.py:198: RuntimeWarning: Python binding for CumulativeSumOptions not exposed\n",
      "  .format(class_name), RuntimeWarning)\n",
      "C:\\Users\\shant\\.conda\\envs\\amex\\lib\\site-packages\\pyarrow\\compute.py:198: RuntimeWarning: Python binding for RankOptions not exposed\n",
      "  .format(class_name), RuntimeWarning)\n"
     ]
    }
   ],
   "source": [
    "import pandas as pd\n",
    "import numpy as np\n",
    "import os\n",
    "import matplotlib.pyplot as plt\n",
    "import seaborn as sns\n",
    "import sklearn\n",
    "from sklearn.preprocessing import StandardScaler, MinMaxScaler\n",
    "from sklearn.decomposition import PCA\n",
    "import sklearn.metrics as sm \n",
    "import time\n",
    "from tqdm import tqdm\n",
    "from timeit import default_timer as timer\n",
    "import time\n",
    "import warnings\n",
    "warnings.filterwarnings('ignore')"
   ]
  },
  {
   "cell_type": "code",
   "execution_count": 69,
   "id": "15b36141",
   "metadata": {},
   "outputs": [
    {
     "name": "stdout",
     "output_type": "stream",
     "text": [
      "Reading train data...\n",
      "shape of data: (5531451, 190)\n"
     ]
    }
   ],
   "source": [
    "def read_parquet(path='', cols=None):\n",
    "    \"\"\"\n",
    "        Returns pandas dataframe\n",
    "\n",
    "        Parameters\n",
    "        -----------\n",
    "        path to training data in parquet format\n",
    "\n",
    "        Returns\n",
    "        ----------\n",
    "        Pandas DataFrame\n",
    "\n",
    "        \"\"\"\n",
    "    # LOAD DATAFRAME\n",
    "    if cols is not None:\n",
    "        dataFrame = pd.read_parquet(path, columns=cols)\n",
    "    else:\n",
    "        dataFrame = pd.read_parquet(path)\n",
    "\n",
    "    \n",
    "    dataFrame['customer_ID'] = dataFrame['customer_ID'].str[-16:].apply(int, base=16).astype('int64')\n",
    "    dataFrame.S_2 = pd.to_datetime(dataFrame.S_2)\n",
    "\n",
    "    \n",
    "    dataFrame = dataFrame.fillna(-127)\n",
    "    print('shape of data:', dataFrame.shape)\n",
    "\n",
    "    return dataFrame\n",
    "\n",
    "\n",
    "print('Reading train data...')\n",
    "TRAIN_PATH = 'train.parquet'\n",
    "train = read_parquet(path=TRAIN_PATH)"
   ]
  },
  {
   "cell_type": "code",
   "execution_count": null,
   "id": "8ea0fccf",
   "metadata": {},
   "outputs": [],
   "source": [
    "def feature_engineering(df):\n",
    "    \"\"\"\n",
    "    :param df: pandas dataframe of train dataset\n",
    "    :return: feature engineered data\n",
    "    \n",
    "    \"\"\"\n",
    "    all_col_of_df = [c for c in list(df.columns) if c not in ['customer_ID', 'S_2']]\n",
    "    cat_features = [\"B_30\", \"B_38\", \"D_114\", \"D_116\", \"D_117\", \"D_120\", \"D_126\", \"D_63\", \"D_64\", \"D_66\", \"D_68\"]\n",
    "    num_features = [col for col in all_col_of_df if col not in cat_features]\n",
    "\n",
    "    test_num_agg = df.groupby(\"customer_ID\")[num_features].agg(['mean', 'std', 'min', 'max', 'last'])\n",
    "    test_num_agg.columns = ['_'.join(x) for x in test_num_agg.columns]\n",
    "\n",
    "    test_cat_agg = df.groupby(\"customer_ID\")[cat_features].agg(['count', 'last', 'nunique'])\n",
    "    test_cat_agg.columns = ['_'.join(x) for x in test_cat_agg.columns]\n",
    "\n",
    "    df = pd.concat([test_num_agg, test_cat_agg], axis=1)\n",
    "    del test_num_agg, test_cat_agg\n",
    "    print('shape after engineering', df.shape)\n",
    "\n",
    "    return df\n",
    "\n",
    "\n",
    "train = feature_engineering(train)\n"
   ]
  },
  {
   "cell_type": "code",
   "execution_count": null,
   "id": "f863c901",
   "metadata": {},
   "outputs": [],
   "source": [
    "# ADD TARGETS\n",
    "output_var = pd.read_csv('C:/Users/shant/Downloads/train_labels.csv')\n",
    "output_var['customer_ID'] = output_var['customer_ID'].str[-16:].apply(int, base=16).astype('int64')\n",
    "output_var = output_var.set_index('customer_ID')\n",
    "train = train.merge(output_var, left_index=True, right_index=True, how='left')\n",
    "train.target = train.target.astype('int8')\n",
    "del output_var\n",
    "\n",
    "\n",
    "train = train.sort_index().reset_index()\n",
    "\n",
    "# FEATURES\n",
    "FEATURES = train.columns[1:-1]\n",
    "print(f'There are {len(FEATURES)} features!')"
   ]
  },
  {
   "cell_type": "code",
   "execution_count": null,
   "id": "dec124c6",
   "metadata": {},
   "outputs": [],
   "source": [
    "shape_before_remove = train.shape[0]\n",
    "train = train.dropna()\n",
    "print('Number of records removed: ',abs(shape_before_remove - train.shape[0]))\n",
    "print('% of customers removed from data: ', round(abs(shape_before_remove - train.shape[0]) * 100 /shape_before_remove,2))"
   ]
  },
  {
   "cell_type": "code",
   "execution_count": null,
   "id": "2ffe41d6",
   "metadata": {},
   "outputs": [],
   "source": [
    "train.isna().sum()[train.isna().sum() !=0]"
   ]
  },
  {
   "cell_type": "markdown",
   "id": "3564412f",
   "metadata": {},
   "source": [
    "### Train Test Split"
   ]
  },
  {
   "cell_type": "code",
   "execution_count": 44,
   "id": "9728089a",
   "metadata": {},
   "outputs": [],
   "source": [
    "from sklearn.model_selection import train_test_split\n",
    "X_train, X_test, y_train, y_test = train_test_split(train[FEATURES], train['target'], test_size=0.3)"
   ]
  },
  {
   "cell_type": "markdown",
   "id": "ae0052b0",
   "metadata": {},
   "source": [
    "### PCA"
   ]
  },
  {
   "cell_type": "code",
   "execution_count": 45,
   "id": "267c64c1",
   "metadata": {},
   "outputs": [],
   "source": [
    "# Need to standardize data before PCA is performed as sklearn doesn't standardize data.\n",
    "from sklearn.preprocessing import StandardScaler\n",
    "\n",
    "scaler_train = StandardScaler()\n",
    "\n",
    "scaler_train.fit(X_train)\n",
    "X_train_std = pd.DataFrame(scaler_train.transform(X_train))\n",
    "\n",
    "scaler_test = StandardScaler()\n",
    "scaler_test.fit(X_test)\n",
    "X_test_std = pd.DataFrame(scaler_test.transform(X_test))"
   ]
  },
  {
   "cell_type": "code",
   "execution_count": 46,
   "id": "4a60921b",
   "metadata": {},
   "outputs": [
    {
     "data": {
      "text/plain": [
       "0.0"
      ]
     },
     "execution_count": 46,
     "metadata": {},
     "output_type": "execute_result"
    }
   ],
   "source": [
    "def generalized_variance(X, normalize=True):\n",
    "    cov = np.cov(X, rowvar=False)\n",
    "    if normalize:\n",
    "        return np.linalg.det(cov) / np.trace(cov)\n",
    "    else:\n",
    "        return np.linalg.det(cov)\n",
    "\n",
    "GV = generalized_variance(X_train_std.copy(), True) # Lower values are better\n",
    "GV"
   ]
  },
  {
   "cell_type": "code",
   "execution_count": 48,
   "id": "b4180aed",
   "metadata": {},
   "outputs": [
    {
     "data": {
      "text/plain": [
       "Text(0, 0.5, '% of variance explained')"
      ]
     },
     "execution_count": 48,
     "metadata": {},
     "output_type": "execute_result"
    },
    {
     "data": {
      "image/png": "[encoded data removed]",
      "text/plain": [
       "<Figure size 640x480 with 1 Axes>"
      ]
     },
     "metadata": {},
     "output_type": "display_data"
    }
   ],
   "source": [
    "## PCA decomposition\n",
    "pca = PCA(n_components=X_train.shape[1]) #Finds first leading PCs\n",
    "pca.fit(X_train_std)\n",
    "plt.plot(pca.explained_variance_ratio_)\n",
    "plt.ylabel('% of variance explained')\n",
    "#plot reaches asymptote at around 80, which is optimal number of PCs to use. "
   ]
  },
  {
   "cell_type": "code",
   "execution_count": 55,
   "id": "b2b5d134",
   "metadata": {},
   "outputs": [
    {
     "name": "stdout",
     "output_type": "stream",
     "text": [
      "0.8939721818039615\n"
     ]
    }
   ],
   "source": [
    "n_pcs = 200\n",
    "print(pca.explained_variance_ratio_[:n_pcs].sum())"
   ]
  },
  {
   "cell_type": "code",
   "execution_count": 50,
   "id": "fbc8ff6a",
   "metadata": {},
   "outputs": [],
   "source": [
    "def de_correlate_df(df):\n",
    "        \n",
    "    X_aux = df.copy()\n",
    "    for col in df.columns:\n",
    "        X_aux[col] = df[col].sample(len(df)).values\n",
    "        \n",
    "    return X_aux"
   ]
  },
  {
   "cell_type": "code",
   "execution_count": 51,
   "id": "70929150",
   "metadata": {},
   "outputs": [],
   "source": [
    "pca = PCA()\n",
    "pca.fit(X_train_std)\n",
    "original_variance = pca.explained_variance_ratio_"
   ]
  },
  {
   "cell_type": "code",
   "execution_count": 52,
   "id": "baef57da",
   "metadata": {},
   "outputs": [],
   "source": [
    "N_permutations = 100\n",
    "variance = np.zeros((N_permutations, len(X_train_std.columns)))"
   ]
  },
  {
   "cell_type": "code",
   "execution_count": 53,
   "id": "3bd14c37",
   "metadata": {},
   "outputs": [
    {
     "data": {
      "application/vnd.plotly.v1+json": {
       "config": {
        "plotlyServerURL": "https://plot.ly"
       },
       "data": [
        {
         "name": "p-value on significance",
         "type": "scatter",
         "x": [
          "PC0",
          "PC1",
          "PC2",
          "PC3",
          "PC4",
          "PC5",
          "PC6",
          "PC7",
          "PC8",
          "PC9",
          "PC10",
          "PC11",
          "PC12",
          "PC13",
          "PC14",
          "PC15",
          "PC16",
          "PC17",
          "PC18",
          "PC19",
          "PC20",
          "PC21",
          "PC22",
          "PC23",
          "PC24",
          "PC25",
          "PC26",
          "PC27",
          "PC28",
          "PC29",
          "PC30",
          "PC31",
          "PC32",
          "PC33",
          "PC34",
          "PC35",
          "PC36",
          "PC37",
          "PC38",
          "PC39",
          "PC40",
          "PC41",
          "PC42",
          "PC43",
          "PC44",
          "PC45",
          "PC46",
          "PC47",
          "PC48",
          "PC49",
          "PC50",
          "PC51",
          "PC52",
          "PC53",
          "PC54",
          "PC55",
          "PC56",
          "PC57",
          "PC58",
          "PC59",
          "PC60",
          "PC61",
          "PC62",
          "PC63",
          "PC64",
          "PC65",
          "PC66",
          "PC67",
          "PC68",
          "PC69",
          "PC70",
          "PC71",
          "PC72",
          "PC73",
          "PC74",
          "PC75",
          "PC76",
          "PC77",
          "PC78",
          "PC79",
          "PC80",
          "PC81",
          "PC82",
          "PC83",
          "PC84",
          "PC85",
          "PC86",
          "PC87",
          "PC88",
          "PC89",
          "PC90",
          "PC91",
          "PC92",
          "PC93",
          "PC94",
          "PC95",
          "PC96",
          "PC97",
          "PC98",
          "PC99",
          "PC100",
          "PC101",
          "PC102",
          "PC103",
          "PC104",
          "PC105",
          "PC106",
          "PC107",
          "PC108",
          "PC109",
          "PC110",
          "PC111",
          "PC112",
          "PC113",
          "PC114",
          "PC115",
          "PC116",
          "PC117",
          "PC118",
          "PC119",
          "PC120",
          "PC121",
          "PC122",
          "PC123",
          "PC124",
          "PC125",
          "PC126",
          "PC127",
          "PC128",
          "PC129",
          "PC130",
          "PC131",
          "PC132",
          "PC133",
          "PC134",
          "PC135",
          "PC136",
          "PC137",
          "PC138",
          "PC139",
          "PC140",
          "PC141",
          "PC142",
          "PC143",
          "PC144",
          "PC145",
          "PC146",
          "PC147",
          "PC148",
          "PC149",
          "PC150",
          "PC151",
          "PC152",
          "PC153",
          "PC154",
          "PC155",
          "PC156",
          "PC157",
          "PC158",
          "PC159",
          "PC160",
          "PC161",
          "PC162",
          "PC163",
          "PC164",
          "PC165",
          "PC166",
          "PC167",
          "PC168",
          "PC169",
          "PC170",
          "PC171",
          "PC172",
          "PC173",
          "PC174",
          "PC175",
          "PC176",
          "PC177",
          "PC178",
          "PC179",
          "PC180",
          "PC181",
          "PC182",
          "PC183",
          "PC184",
          "PC185",
          "PC186",
          "PC187",
          "PC188",
          "PC189",
          "PC190",
          "PC191",
          "PC192",
          "PC193",
          "PC194",
          "PC195",
          "PC196",
          "PC197",
          "PC198",
          "PC199",
          "PC200",
          "PC201",
          "PC202",
          "PC203",
          "PC204",
          "PC205",
          "PC206",
          "PC207",
          "PC208",
          "PC209",
          "PC210",
          "PC211",
          "PC212",
          "PC213",
          "PC214",
          "PC215",
          "PC216",
          "PC217",
          "PC218",
          "PC219",
          "PC220",
          "PC221",
          "PC222",
          "PC223",
          "PC224",
          "PC225",
          "PC226",
          "PC227",
          "PC228",
          "PC229",
          "PC230",
          "PC231",
          "PC232",
          "PC233",
          "PC234",
          "PC235",
          "PC236",
          "PC237",
          "PC238",
          "PC239",
          "PC240",
          "PC241",
          "PC242",
          "PC243",
          "PC244",
          "PC245",
          "PC246",
          "PC247",
          "PC248",
          "PC249",
          "PC250",
          "PC251",
          "PC252",
          "PC253",
          "PC254",
          "PC255",
          "PC256",
          "PC257",
          "PC258",
          "PC259",
          "PC260",
          "PC261",
          "PC262",
          "PC263",
          "PC264",
          "PC265",
          "PC266",
          "PC267",
          "PC268",
          "PC269",
          "PC270",
          "PC271",
          "PC272",
          "PC273",
          "PC274",
          "PC275",
          "PC276",
          "PC277",
          "PC278",
          "PC279",
          "PC280",
          "PC281",
          "PC282",
          "PC283",
          "PC284",
          "PC285",
          "PC286",
          "PC287",
          "PC288",
          "PC289",
          "PC290",
          "PC291",
          "PC292",
          "PC293",
          "PC294",
          "PC295",
          "PC296",
          "PC297",
          "PC298",
          "PC299",
          "PC300",
          "PC301",
          "PC302",
          "PC303",
          "PC304",
          "PC305",
          "PC306",
          "PC307",
          "PC308",
          "PC309",
          "PC310",
          "PC311",
          "PC312",
          "PC313",
          "PC314",
          "PC315",
          "PC316",
          "PC317",
          "PC318",
          "PC319",
          "PC320",
          "PC321",
          "PC322",
          "PC323",
          "PC324",
          "PC325",
          "PC326",
          "PC327",
          "PC328",
          "PC329",
          "PC330",
          "PC331",
          "PC332",
          "PC333",
          "PC334",
          "PC335",
          "PC336",
          "PC337",
          "PC338",
          "PC339",
          "PC340",
          "PC341",
          "PC342",
          "PC343",
          "PC344",
          "PC345",
          "PC346",
          "PC347",
          "PC348",
          "PC349",
          "PC350",
          "PC351",
          "PC352",
          "PC353",
          "PC354",
          "PC355",
          "PC356",
          "PC357",
          "PC358",
          "PC359",
          "PC360",
          "PC361",
          "PC362",
          "PC363",
          "PC364",
          "PC365",
          "PC366",
          "PC367",
          "PC368",
          "PC369",
          "PC370",
          "PC371",
          "PC372",
          "PC373",
          "PC374",
          "PC375",
          "PC376",
          "PC377",
          "PC378",
          "PC379",
          "PC380",
          "PC381",
          "PC382",
          "PC383",
          "PC384",
          "PC385",
          "PC386",
          "PC387",
          "PC388",
          "PC389",
          "PC390",
          "PC391",
          "PC392",
          "PC393",
          "PC394",
          "PC395",
          "PC396",
          "PC397",
          "PC398",
          "PC399",
          "PC400",
          "PC401",
          "PC402",
          "PC403",
          "PC404",
          "PC405",
          "PC406",
          "PC407",
          "PC408",
          "PC409",
          "PC410",
          "PC411",
          "PC412",
          "PC413",
          "PC414",
          "PC415",
          "PC416",
          "PC417",
          "PC418",
          "PC419",
          "PC420",
          "PC421",
          "PC422",
          "PC423",
          "PC424",
          "PC425",
          "PC426",
          "PC427",
          "PC428",
          "PC429",
          "PC430",
          "PC431",
          "PC432",
          "PC433",
          "PC434",
          "PC435",
          "PC436",
          "PC437",
          "PC438",
          "PC439",
          "PC440",
          "PC441",
          "PC442",
          "PC443",
          "PC444",
          "PC445",
          "PC446",
          "PC447",
          "PC448",
          "PC449",
          "PC450",
          "PC451",
          "PC452",
          "PC453",
          "PC454",
          "PC455",
          "PC456",
          "PC457",
          "PC458",
          "PC459",
          "PC460",
          "PC461",
          "PC462",
          "PC463",
          "PC464",
          "PC465",
          "PC466",
          "PC467",
          "PC468",
          "PC469",
          "PC470",
          "PC471",
          "PC472",
          "PC473",
          "PC474",
          "PC475",
          "PC476",
          "PC477",
          "PC478",
          "PC479",
          "PC480",
          "PC481",
          "PC482",
          "PC483",
          "PC484",
          "PC485",
          "PC486",
          "PC487",
          "PC488",
          "PC489",
          "PC490",
          "PC491",
          "PC492",
          "PC493",
          "PC494",
          "PC495",
          "PC496",
          "PC497",
          "PC498",
          "PC499",
          "PC500",
          "PC501",
          "PC502",
          "PC503",
          "PC504",
          "PC505",
          "PC506",
          "PC507",
          "PC508",
          "PC509",
          "PC510",
          "PC511",
          "PC512",
          "PC513",
          "PC514",
          "PC515",
          "PC516",
          "PC517",
          "PC518",
          "PC519",
          "PC520",
          "PC521",
          "PC522",
          "PC523",
          "PC524",
          "PC525",
          "PC526",
          "PC527",
          "PC528",
          "PC529",
          "PC530",
          "PC531",
          "PC532",
          "PC533",
          "PC534",
          "PC535",
          "PC536",
          "PC537",
          "PC538",
          "PC539",
          "PC540",
          "PC541",
          "PC542",
          "PC543",
          "PC544",
          "PC545",
          "PC546",
          "PC547",
          "PC548",
          "PC549",
          "PC550",
          "PC551",
          "PC552",
          "PC553",
          "PC554",
          "PC555",
          "PC556",
          "PC557",
          "PC558",
          "PC559",
          "PC560",
          "PC561",
          "PC562",
          "PC563",
          "PC564",
          "PC565",
          "PC566",
          "PC567",
          "PC568",
          "PC569",
          "PC570",
          "PC571",
          "PC572",
          "PC573",
          "PC574",
          "PC575",
          "PC576",
          "PC577",
          "PC578",
          "PC579",
          "PC580",
          "PC581",
          "PC582",
          "PC583",
          "PC584",
          "PC585",
          "PC586",
          "PC587",
          "PC588",
          "PC589",
          "PC590",
          "PC591",
          "PC592",
          "PC593",
          "PC594",
          "PC595",
          "PC596",
          "PC597",
          "PC598",
          "PC599",
          "PC600",
          "PC601",
          "PC602",
          "PC603",
          "PC604",
          "PC605",
          "PC606",
          "PC607",
          "PC608",
          "PC609",
          "PC610",
          "PC611",
          "PC612",
          "PC613",
          "PC614",
          "PC615",
          "PC616",
          "PC617",
          "PC618",
          "PC619",
          "PC620",
          "PC621",
          "PC622",
          "PC623",
          "PC624",
          "PC625",
          "PC626",
          "PC627",
          "PC628",
          "PC629",
          "PC630",
          "PC631",
          "PC632",
          "PC633",
          "PC634",
          "PC635",
          "PC636",
          "PC637",
          "PC638",
          "PC639",
          "PC640",
          "PC641",
          "PC642",
          "PC643",
          "PC644",
          "PC645",
          "PC646",
          "PC647",
          "PC648",
          "PC649",
          "PC650",
          "PC651",
          "PC652",
          "PC653",
          "PC654",
          "PC655",
          "PC656",
          "PC657",
          "PC658",
          "PC659",
          "PC660",
          "PC661",
          "PC662",
          "PC663",
          "PC664",
          "PC665",
          "PC666",
          "PC667",
          "PC668",
          "PC669",
          "PC670",
          "PC671",
          "PC672",
          "PC673",
          "PC674",
          "PC675",
          "PC676",
          "PC677",
          "PC678",
          "PC679",
          "PC680",
          "PC681",
          "PC682",
          "PC683",
          "PC684",
          "PC685",
          "PC686",
          "PC687",
          "PC688",
          "PC689",
          "PC690",
          "PC691",
          "PC692",
          "PC693",
          "PC694",
          "PC695",
          "PC696",
          "PC697",
          "PC698",
          "PC699",
          "PC700",
          "PC701",
          "PC702",
          "PC703",
          "PC704",
          "PC705",
          "PC706",
          "PC707",
          "PC708",
          "PC709",
          "PC710",
          "PC711",
          "PC712",
          "PC713",
          "PC714",
          "PC715",
          "PC716",
          "PC717",
          "PC718",
          "PC719",
          "PC720",
          "PC721",
          "PC722",
          "PC723",
          "PC724",
          "PC725",
          "PC726",
          "PC727",
          "PC728",
          "PC729",
          "PC730",
          "PC731",
          "PC732",
          "PC733",
          "PC734",
          "PC735",
          "PC736",
          "PC737",
          "PC738",
          "PC739",
          "PC740",
          "PC741",
          "PC742",
          "PC743",
          "PC744",
          "PC745",
          "PC746",
          "PC747",
          "PC748",
          "PC749",
          "PC750",
          "PC751",
          "PC752",
          "PC753",
          "PC754",
          "PC755",
          "PC756",
          "PC757",
          "PC758",
          "PC759",
          "PC760",
          "PC761",
          "PC762",
          "PC763",
          "PC764",
          "PC765",
          "PC766",
          "PC767",
          "PC768",
          "PC769",
          "PC770",
          "PC771",
          "PC772",
          "PC773",
          "PC774",
          "PC775",
          "PC776",
          "PC777",
          "PC778",
          "PC779",
          "PC780",
          "PC781",
          "PC782",
          "PC783",
          "PC784",
          "PC785",
          "PC786",
          "PC787",
          "PC788",
          "PC789",
          "PC790",
          "PC791",
          "PC792",
          "PC793",
          "PC794",
          "PC795",
          "PC796",
          "PC797",
          "PC798",
          "PC799",
          "PC800",
          "PC801",
          "PC802",
          "PC803",
          "PC804",
          "PC805",
          "PC806",
          "PC807",
          "PC808",
          "PC809",
          "PC810",
          "PC811",
          "PC812",
          "PC813",
          "PC814",
          "PC815",
          "PC816",
          "PC817",
          "PC818",
          "PC819",
          "PC820",
          "PC821",
          "PC822",
          "PC823",
          "PC824",
          "PC825",
          "PC826",
          "PC827",
          "PC828",
          "PC829",
          "PC830",
          "PC831",
          "PC832",
          "PC833",
          "PC834",
          "PC835",
          "PC836",
          "PC837",
          "PC838",
          "PC839",
          "PC840",
          "PC841",
          "PC842",
          "PC843",
          "PC844",
          "PC845",
          "PC846",
          "PC847",
          "PC848",
          "PC849",
          "PC850",
          "PC851",
          "PC852",
          "PC853",
          "PC854",
          "PC855",
          "PC856",
          "PC857",
          "PC858",
          "PC859",
          "PC860",
          "PC861",
          "PC862",
          "PC863",
          "PC864",
          "PC865",
          "PC866",
          "PC867",
          "PC868",
          "PC869",
          "PC870",
          "PC871",
          "PC872",
          "PC873",
          "PC874",
          "PC875",
          "PC876",
          "PC877",
          "PC878",
          "PC879",
          "PC880",
          "PC881",
          "PC882",
          "PC883",
          "PC884",
          "PC885",
          "PC886",
          "PC887",
          "PC888",
          "PC889",
          "PC890",
          "PC891",
          "PC892",
          "PC893",
          "PC894",
          "PC895",
          "PC896",
          "PC897",
          "PC898",
          "PC899",
          "PC900",
          "PC901",
          "PC902",
          "PC903",
          "PC904",
          "PC905",
          "PC906",
          "PC907",
          "PC908",
          "PC909",
          "PC910",
          "PC911",
          "PC912",
          "PC913",
          "PC914",
          "PC915",
          "PC916",
          "PC917"
         ],
         "y": [
          0,
          0,
          0,
          0,
          0,
          0,
          0,
          0,
          0,
          0,
          0,
          0,
          0,
          0,
          0,
          0,
          0,
          0,
          0,
          0,
          0,
          0,
          0,
          0,
          0,
          0,
          0,
          0,
          0,
          0,
          0,
          0,
          0,
          0,
          0,
          0,
          0,
          0,
          0,
          0,
          0,
          0,
          0,
          0,
          0,
          0,
          0,
          0,
          0,
          0,
          0,
          0,
          0,
          0,
          0,
          0,
          0,
          0,
          0,
          0,
          0,
          0,
          0,
          0,
          0,
          0,
          0,
          0,
          0,
          0,
          0,
          0,
          0,
          0,
          0,
          0,
          0,
          0,
          0,
          0,
          0,
          0,
          0,
          0,
          0,
          0,
          0,
          0,
          0,
          0,
          0,
          0,
          0,
          0,
          0,
          0,
          0,
          0,
          0,
          0,
          0,
          0,
          0,
          0,
          0,
          0,
          0,
          0,
          0,
          0,
          0,
          0,
          0,
          0,
          0,
          0,
          0,
          0,
          0,
          0,
          0,
          0,
          0,
          0,
          0,
          0,
          0,
          0,
          0,
          0,
          0,
          0,
          0,
          0,
          0,
          0,
          0,
          0,
          0,
          0,
          0,
          0,
          0,
          0,
          0,
          0,
          0,
          0,
          0,
          0,
          0,
          0,
          0,
          0,
          0,
          0,
          0,
          0,
          0,
          0,
          0,
          0,
          0,
          0,
          0,
          0,
          0,
          0,
          0,
          0,
          0,
          0,
          0,
          0,
          0,
          0,
          0,
          0,
          0,
          0,
          0,
          0,
          0,
          0,
          0,
          0,
          0,
          0,
          0,
          0,
          0,
          0,
          0,
          0,
          0,
          0,
          0,
          0,
          0,
          0,
          0,
          0,
          0,
          0,
          0,
          0,
          0,
          0,
          0,
          0,
          0,
          0,
          0,
          0,
          0,
          0,
          0,
          0,
          0,
          0,
          0,
          0,
          0,
          0,
          0,
          0,
          0,
          0,
          0,
          0,
          0,
          0,
          0,
          0,
          0,
          0,
          0,
          0,
          0,
          0,
          0,
          0,
          0,
          0,
          0,
          0,
          0,
          0,
          0,
          0,
          0,
          0,
          0,
          0,
          0,
          0,
          0,
          0,
          0,
          0,
          0,
          0,
          0,
          0,
          0,
          0,
          0,
          0,
          0,
          0,
          0,
          0,
          0,
          0,
          0,
          0,
          0,
          0,
          0,
          0,
          0,
          0,
          0,
          0,
          0,
          0,
          0,
          0,
          0,
          0,
          0,
          0,
          0,
          0,
          0,
          0,
          0,
          0,
          0,
          0,
          0,
          0,
          0,
          0,
          0,
          0,
          0,
          0,
          0,
          0,
          0,
          0,
          0,
          0,
          0,
          0,
          0,
          0,
          0,
          0,
          0,
          0,
          0,
          0,
          0,
          0,
          0,
          0,
          0,
          0,
          0,
          0,
          0,
          0,
          0,
          0,
          0,
          0,
          0,
          0,
          0,
          0,
          0,
          0,
          0,
          0,
          0,
          0,
          0,
          0,
          0,
          0,
          0,
          0,
          0,
          0,
          0,
          0,
          0,
          0,
          0,
          0,
          0,
          0,
          0,
          0,
          0,
          0,
          0,
          0,
          0,
          0,
          0,
          0,
          0,
          0,
          0,
          0,
          0,
          0,
          0,
          0,
          0,
          0,
          0,
          0,
          0,
          0,
          0,
          0,
          0,
          0,
          0,
          0,
          0,
          0,
          0,
          0,
          0,
          0,
          0,
          0,
          0,
          0,
          0,
          0,
          0,
          0,
          0,
          0,
          0,
          0,
          0,
          0,
          0,
          0,
          0,
          0,
          0,
          0,
          0,
          0,
          0,
          0,
          0,
          0,
          0,
          0,
          0,
          0,
          0,
          0,
          0,
          0,
          0,
          0,
          0,
          0,
          0,
          0,
          0,
          0,
          0,
          0,
          0,
          0,
          0,
          0,
          0,
          0,
          0,
          0,
          0,
          0,
          0,
          0,
          0,
          0,
          0,
          0,
          0,
          0,
          0,
          0,
          0,
          0,
          0,
          0,
          0,
          0,
          0,
          0,
          0,
          0,
          0,
          0,
          0,
          0,
          0,
          0,
          0,
          0,
          0,
          0,
          0,
          0,
          0,
          0,
          0,
          0,
          0,
          0,
          0,
          0,
          0,
          0,
          0,
          0,
          0,
          0,
          0,
          0,
          0,
          0,
          0,
          0,
          0,
          0,
          0,
          0,
          0,
          0,
          0,
          0,
          0,
          0,
          0,
          0,
          0,
          0,
          0,
          0,
          0,
          0,
          0,
          0,
          0,
          0,
          0,
          0,
          0,
          0,
          0,
          0,
          0,
          0,
          0,
          0,
          0,
          0,
          0,
          0,
          0,
          0,
          0,
          0,
          0,
          0,
          0,
          0,
          0,
          0,
          0,
          0,
          0,
          0,
          0,
          0,
          0,
          0,
          0,
          0,
          0,
          0,
          0,
          0,
          0,
          0,
          0,
          0,
          0,
          0,
          0,
          0,
          0,
          0,
          0,
          0,
          0,
          0,
          0,
          0,
          0,
          0,
          0,
          0,
          0,
          0,
          0,
          0,
          0,
          0,
          0,
          0,
          0,
          0,
          0,
          0,
          0,
          0,
          0,
          0,
          0,
          0,
          0,
          0,
          0,
          0,
          0,
          0,
          0,
          0,
          0,
          0,
          0,
          0,
          0,
          0,
          0,
          0,
          0,
          0,
          0,
          0,
          0,
          0,
          0,
          0,
          0,
          0,
          0,
          0,
          0,
          0,
          0,
          0,
          0,
          0,
          0,
          0,
          0,
          0,
          0,
          0,
          0,
          0,
          0,
          0,
          0,
          0,
          0,
          0,
          0,
          0,
          0,
          0,
          0,
          0,
          0,
          0,
          0,
          0,
          0,
          0,
          0,
          0,
          0,
          0,
          0,
          0,
          0,
          0,
          0,
          0,
          0,
          0,
          0,
          0,
          0,
          0,
          0,
          0,
          0,
          0,
          0,
          0,
          0,
          0,
          0,
          0,
          0,
          0,
          0,
          0,
          0,
          0,
          0,
          0,
          0,
          0,
          0,
          0,
          0,
          0,
          0,
          0,
          0,
          0,
          0,
          0,
          0,
          0,
          0,
          0,
          0,
          0,
          0,
          0,
          0,
          0,
          0,
          0,
          0,
          0,
          0,
          0,
          0,
          0,
          0,
          0,
          0,
          0,
          0,
          0,
          0,
          0,
          0,
          0,
          0,
          0,
          0,
          0,
          0,
          0,
          0,
          0,
          0,
          0,
          0,
          0,
          0,
          0,
          0,
          0,
          0,
          0,
          0,
          0,
          0,
          0,
          0,
          0,
          0,
          0,
          0,
          0,
          0,
          0,
          0,
          0,
          0,
          0,
          0,
          0,
          0,
          0,
          0,
          0,
          0,
          0,
          0,
          0,
          0,
          0,
          0,
          0,
          0,
          0,
          0,
          0,
          0,
          0,
          0,
          0,
          0,
          0,
          0,
          0,
          0,
          0,
          0,
          0,
          0,
          0,
          0,
          0,
          0,
          0,
          0,
          0,
          0,
          0,
          0,
          0,
          0,
          0,
          0,
          0,
          0,
          0,
          0,
          0,
          0,
          0,
          0,
          0,
          0,
          0,
          0,
          0,
          0,
          0,
          0,
          0,
          0,
          0,
          0,
          0,
          0,
          0,
          0,
          0,
          0,
          0,
          0,
          0,
          0,
          0,
          0,
          0,
          0,
          0,
          0,
          0,
          0,
          0,
          0,
          0,
          0,
          0,
          0,
          0,
          0,
          0,
          0,
          0,
          0,
          0,
          0,
          0,
          0,
          0,
          0,
          0,
          0,
          0,
          0,
          0,
          0,
          0,
          0,
          0,
          0,
          0,
          0,
          0,
          0,
          0,
          0,
          0,
          0,
          0,
          0,
          0,
          0,
          0,
          0,
          0,
          0,
          0,
          0,
          0,
          0,
          0,
          0,
          0,
          0,
          0,
          0,
          0,
          0,
          0,
          0,
          0,
          0,
          0,
          0,
          0
         ]
        }
       ],
       "layout": {
        "template": {
         "data": {
          "bar": [
           {
            "error_x": {
             "color": "#2a3f5f"
            },
            "error_y": {
             "color": "#2a3f5f"
            },
            "marker": {
             "line": {
              "color": "#E5ECF6",
              "width": 0.5
             },
             "pattern": {
              "fillmode": "overlay",
              "size": 10,
              "solidity": 0.2
             }
            },
            "type": "bar"
           }
          ],
          "barpolar": [
           {
            "marker": {
             "line": {
              "color": "#E5ECF6",
              "width": 0.5
             },
             "pattern": {
              "fillmode": "overlay",
              "size": 10,
              "solidity": 0.2
             }
            },
            "type": "barpolar"
           }
          ],
          "carpet": [
           {
            "aaxis": {
             "endlinecolor": "#2a3f5f",
             "gridcolor": "white",
             "linecolor": "white",
             "minorgridcolor": "white",
             "startlinecolor": "#2a3f5f"
            },
            "baxis": {
             "endlinecolor": "#2a3f5f",
             "gridcolor": "white",
             "linecolor": "white",
             "minorgridcolor": "white",
             "startlinecolor": "#2a3f5f"
            },
            "type": "carpet"
           }
          ],
          "choropleth": [
           {
            "colorbar": {
             "outlinewidth": 0,
             "ticks": ""
            },
            "type": "choropleth"
           }
          ],
          "contour": [
           {
            "colorbar": {
             "outlinewidth": 0,
             "ticks": ""
            },
            "colorscale": [
             [
              0,
              "#0d0887"
             ],
             [
              0.1111111111111111,
              "#46039f"
             ],
             [
              0.2222222222222222,
              "#7201a8"
             ],
             [
              0.3333333333333333,
              "#9c179e"
             ],
             [
              0.4444444444444444,
              "#bd3786"
             ],
             [
              0.5555555555555556,
              "#d8576b"
             ],
             [
              0.6666666666666666,
              "#ed7953"
             ],
             [
              0.7777777777777778,
              "#fb9f3a"
             ],
             [
              0.8888888888888888,
              "#fdca26"
             ],
             [
              1,
              "#f0f921"
             ]
            ],
            "type": "contour"
           }
          ],
          "contourcarpet": [
           {
            "colorbar": {
             "outlinewidth": 0,
             "ticks": ""
            },
            "type": "contourcarpet"
           }
          ],
          "heatmap": [
           {
            "colorbar": {
             "outlinewidth": 0,
             "ticks": ""
            },
            "colorscale": [
             [
              0,
              "#0d0887"
             ],
             [
              0.1111111111111111,
              "#46039f"
             ],
             [
              0.2222222222222222,
              "#7201a8"
             ],
             [
              0.3333333333333333,
              "#9c179e"
             ],
             [
              0.4444444444444444,
              "#bd3786"
             ],
             [
              0.5555555555555556,
              "#d8576b"
             ],
             [
              0.6666666666666666,
              "#ed7953"
             ],
             [
              0.7777777777777778,
              "#fb9f3a"
             ],
             [
              0.8888888888888888,
              "#fdca26"
             ],
             [
              1,
              "#f0f921"
             ]
            ],
            "type": "heatmap"
           }
          ],
          "heatmapgl": [
           {
            "colorbar": {
             "outlinewidth": 0,
             "ticks": ""
            },
            "colorscale": [
             [
              0,
              "#0d0887"
             ],
             [
              0.1111111111111111,
              "#46039f"
             ],
             [
              0.2222222222222222,
              "#7201a8"
             ],
             [
              0.3333333333333333,
              "#9c179e"
             ],
             [
              0.4444444444444444,
              "#bd3786"
             ],
             [
              0.5555555555555556,
              "#d8576b"
             ],
             [
              0.6666666666666666,
              "#ed7953"
             ],
             [
              0.7777777777777778,
              "#fb9f3a"
             ],
             [
              0.8888888888888888,
              "#fdca26"
             ],
             [
              1,
              "#f0f921"
             ]
            ],
            "type": "heatmapgl"
           }
          ],
          "histogram": [
           {
            "marker": {
             "pattern": {
              "fillmode": "overlay",
              "size": 10,
              "solidity": 0.2
             }
            },
            "type": "histogram"
           }
          ],
          "histogram2d": [
           {
            "colorbar": {
             "outlinewidth": 0,
             "ticks": ""
            },
            "colorscale": [
             [
              0,
              "#0d0887"
             ],
             [
              0.1111111111111111,
              "#46039f"
             ],
             [
              0.2222222222222222,
              "#7201a8"
             ],
             [
              0.3333333333333333,
              "#9c179e"
             ],
             [
              0.4444444444444444,
              "#bd3786"
             ],
             [
              0.5555555555555556,
              "#d8576b"
             ],
             [
              0.6666666666666666,
              "#ed7953"
             ],
             [
              0.7777777777777778,
              "#fb9f3a"
             ],
             [
              0.8888888888888888,
              "#fdca26"
             ],
             [
              1,
              "#f0f921"
             ]
            ],
            "type": "histogram2d"
           }
          ],
          "histogram2dcontour": [
           {
            "colorbar": {
             "outlinewidth": 0,
             "ticks": ""
            },
            "colorscale": [
             [
              0,
              "#0d0887"
             ],
             [
              0.1111111111111111,
              "#46039f"
             ],
             [
              0.2222222222222222,
              "#7201a8"
             ],
             [
              0.3333333333333333,
              "#9c179e"
             ],
             [
              0.4444444444444444,
              "#bd3786"
             ],
             [
              0.5555555555555556,
              "#d8576b"
             ],
             [
              0.6666666666666666,
              "#ed7953"
             ],
             [
              0.7777777777777778,
              "#fb9f3a"
             ],
             [
              0.8888888888888888,
              "#fdca26"
             ],
             [
              1,
              "#f0f921"
             ]
            ],
            "type": "histogram2dcontour"
           }
          ],
          "mesh3d": [
           {
            "colorbar": {
             "outlinewidth": 0,
             "ticks": ""
            },
            "type": "mesh3d"
           }
          ],
          "parcoords": [
           {
            "line": {
             "colorbar": {
              "outlinewidth": 0,
              "ticks": ""
             }
            },
            "type": "parcoords"
           }
          ],
          "pie": [
           {
            "automargin": true,
            "type": "pie"
           }
          ],
          "scatter": [
           {
            "fillpattern": {
             "fillmode": "overlay",
             "size": 10,
             "solidity": 0.2
            },
            "type": "scatter"
           }
          ],
          "scatter3d": [
           {
            "line": {
             "colorbar": {
              "outlinewidth": 0,
              "ticks": ""
             }
            },
            "marker": {
             "colorbar": {
              "outlinewidth": 0,
              "ticks": ""
             }
            },
            "type": "scatter3d"
           }
          ],
          "scattercarpet": [
           {
            "marker": {
             "colorbar": {
              "outlinewidth": 0,
              "ticks": ""
             }
            },
            "type": "scattercarpet"
           }
          ],
          "scattergeo": [
           {
            "marker": {
             "colorbar": {
              "outlinewidth": 0,
              "ticks": ""
             }
            },
            "type": "scattergeo"
           }
          ],
          "scattergl": [
           {
            "marker": {
             "colorbar": {
              "outlinewidth": 0,
              "ticks": ""
             }
            },
            "type": "scattergl"
           }
          ],
          "scattermapbox": [
           {
            "marker": {
             "colorbar": {
              "outlinewidth": 0,
              "ticks": ""
             }
            },
            "type": "scattermapbox"
           }
          ],
          "scatterpolar": [
           {
            "marker": {
             "colorbar": {
              "outlinewidth": 0,
              "ticks": ""
             }
            },
            "type": "scatterpolar"
           }
          ],
          "scatterpolargl": [
           {
            "marker": {
             "colorbar": {
              "outlinewidth": 0,
              "ticks": ""
             }
            },
            "type": "scatterpolargl"
           }
          ],
          "scatterternary": [
           {
            "marker": {
             "colorbar": {
              "outlinewidth": 0,
              "ticks": ""
             }
            },
            "type": "scatterternary"
           }
          ],
          "surface": [
           {
            "colorbar": {
             "outlinewidth": 0,
             "ticks": ""
            },
            "colorscale": [
             [
              0,
              "#0d0887"
             ],
             [
              0.1111111111111111,
              "#46039f"
             ],
             [
              0.2222222222222222,
              "#7201a8"
             ],
             [
              0.3333333333333333,
              "#9c179e"
             ],
             [
              0.4444444444444444,
              "#bd3786"
             ],
             [
              0.5555555555555556,
              "#d8576b"
             ],
             [
              0.6666666666666666,
              "#ed7953"
             ],
             [
              0.7777777777777778,
              "#fb9f3a"
             ],
             [
              0.8888888888888888,
              "#fdca26"
             ],
             [
              1,
              "#f0f921"
             ]
            ],
            "type": "surface"
           }
          ],
          "table": [
           {
            "cells": {
             "fill": {
              "color": "#EBF0F8"
             },
             "line": {
              "color": "white"
             }
            },
            "header": {
             "fill": {
              "color": "#C8D4E3"
             },
             "line": {
              "color": "white"
             }
            },
            "type": "table"
           }
          ]
         },
         "layout": {
          "annotationdefaults": {
           "arrowcolor": "#2a3f5f",
           "arrowhead": 0,
           "arrowwidth": 1
          },
          "autotypenumbers": "strict",
          "coloraxis": {
           "colorbar": {
            "outlinewidth": 0,
            "ticks": ""
           }
          },
          "colorscale": {
           "diverging": [
            [
             0,
             "#8e0152"
            ],
            [
             0.1,
             "#c51b7d"
            ],
            [
             0.2,
             "#de77ae"
            ],
            [
             0.3,
             "#f1b6da"
            ],
            [
             0.4,
             "#fde0ef"
            ],
            [
             0.5,
             "#f7f7f7"
            ],
            [
             0.6,
             "#e6f5d0"
            ],
            [
             0.7,
             "#b8e186"
            ],
            [
             0.8,
             "#7fbc41"
            ],
            [
             0.9,
             "#4d9221"
            ],
            [
             1,
             "#276419"
            ]
           ],
           "sequential": [
            [
             0,
             "#0d0887"
            ],
            [
             0.1111111111111111,
             "#46039f"
            ],
            [
             0.2222222222222222,
             "#7201a8"
            ],
            [
             0.3333333333333333,
             "#9c179e"
            ],
            [
             0.4444444444444444,
             "#bd3786"
            ],
            [
             0.5555555555555556,
             "#d8576b"
            ],
            [
             0.6666666666666666,
             "#ed7953"
            ],
            [
             0.7777777777777778,
             "#fb9f3a"
            ],
            [
             0.8888888888888888,
             "#fdca26"
            ],
            [
             1,
             "#f0f921"
            ]
           ],
           "sequentialminus": [
            [
             0,
             "#0d0887"
            ],
            [
             0.1111111111111111,
             "#46039f"
            ],
            [
             0.2222222222222222,
             "#7201a8"
            ],
            [
             0.3333333333333333,
             "#9c179e"
            ],
            [
             0.4444444444444444,
             "#bd3786"
            ],
            [
             0.5555555555555556,
             "#d8576b"
            ],
            [
             0.6666666666666666,
             "#ed7953"
            ],
            [
             0.7777777777777778,
             "#fb9f3a"
            ],
            [
             0.8888888888888888,
             "#fdca26"
            ],
            [
             1,
             "#f0f921"
            ]
           ]
          },
          "colorway": [
           "#636efa",
           "#EF553B",
           "#00cc96",
           "#ab63fa",
           "#FFA15A",
           "#19d3f3",
           "#FF6692",
           "#B6E880",
           "#FF97FF",
           "#FECB52"
          ],
          "font": {
           "color": "#2a3f5f"
          },
          "geo": {
           "bgcolor": "white",
           "lakecolor": "white",
           "landcolor": "#E5ECF6",
           "showlakes": true,
           "showland": true,
           "subunitcolor": "white"
          },
          "hoverlabel": {
           "align": "left"
          },
          "hovermode": "closest",
          "mapbox": {
           "style": "light"
          },
          "paper_bgcolor": "white",
          "plot_bgcolor": "#E5ECF6",
          "polar": {
           "angularaxis": {
            "gridcolor": "white",
            "linecolor": "white",
            "ticks": ""
           },
           "bgcolor": "#E5ECF6",
           "radialaxis": {
            "gridcolor": "white",
            "linecolor": "white",
            "ticks": ""
           }
          },
          "scene": {
           "xaxis": {
            "backgroundcolor": "#E5ECF6",
            "gridcolor": "white",
            "gridwidth": 2,
            "linecolor": "white",
            "showbackground": true,
            "ticks": "",
            "zerolinecolor": "white"
           },
           "yaxis": {
            "backgroundcolor": "#E5ECF6",
            "gridcolor": "white",
            "gridwidth": 2,
            "linecolor": "white",
            "showbackground": true,
            "ticks": "",
            "zerolinecolor": "white"
           },
           "zaxis": {
            "backgroundcolor": "#E5ECF6",
            "gridcolor": "white",
            "gridwidth": 2,
            "linecolor": "white",
            "showbackground": true,
            "ticks": "",
            "zerolinecolor": "white"
           }
          },
          "shapedefaults": {
           "line": {
            "color": "#2a3f5f"
           }
          },
          "ternary": {
           "aaxis": {
            "gridcolor": "white",
            "linecolor": "white",
            "ticks": ""
           },
           "baxis": {
            "gridcolor": "white",
            "linecolor": "white",
            "ticks": ""
           },
           "bgcolor": "#E5ECF6",
           "caxis": {
            "gridcolor": "white",
            "linecolor": "white",
            "ticks": ""
           }
          },
          "title": {
           "x": 0.05
          },
          "xaxis": {
           "automargin": true,
           "gridcolor": "white",
           "linecolor": "white",
           "ticks": "",
           "title": {
            "standoff": 15
           },
           "zerolinecolor": "white",
           "zerolinewidth": 2
          },
          "yaxis": {
           "automargin": true,
           "gridcolor": "white",
           "linecolor": "white",
           "ticks": "",
           "title": {
            "standoff": 15
           },
           "zerolinecolor": "white",
           "zerolinewidth": 2
          }
         }
        },
        "title": {
         "text": "PCA Permutation Test p-values"
        }
       }
      },
      "text/html": [
       "<div>                            <div id=\"b4ed1e1a-f933-4bd5-be64-9af6312e526b\" class=\"plotly-graph-div\" style=\"height:525px; width:100%;\"></div>            <script type=\"text/javascript\">                require([\"plotly\"], function(Plotly) {                    window.PLOTLYENV=window.PLOTLYENV || {};                                    if (document.getElementById(\"b4ed1e1a-f933-4bd5-be64-9af6312e526b\")) {                    Plotly.newPlot(                        \"b4ed1e1a-f933-4bd5-be64-9af6312e526b\",                        [{\"name\":\"p-value on significance\",\"x\":[\"PC0\",\"PC1\",\"PC2\",\"PC3\",\"PC4\",\"PC5\",\"PC6\",\"PC7\",\"PC8\",\"PC9\",\"PC10\",\"PC11\",\"PC12\",\"PC13\",\"PC14\",\"PC15\",\"PC16\",\"PC17\",\"PC18\",\"PC19\",\"PC20\",\"PC21\",\"PC22\",\"PC23\",\"PC24\",\"PC25\",\"PC26\",\"PC27\",\"PC28\",\"PC29\",\"PC30\",\"PC31\",\"PC32\",\"PC33\",\"PC34\",\"PC35\",\"PC36\",\"PC37\",\"PC38\",\"PC39\",\"PC40\",\"PC41\",\"PC42\",\"PC43\",\"PC44\",\"PC45\",\"PC46\",\"PC47\",\"PC48\",\"PC49\",\"PC50\",\"PC51\",\"PC52\",\"PC53\",\"PC54\",\"PC55\",\"PC56\",\"PC57\",\"PC58\",\"PC59\",\"PC60\",\"PC61\",\"PC62\",\"PC63\",\"PC64\",\"PC65\",\"PC66\",\"PC67\",\"PC68\",\"PC69\",\"PC70\",\"PC71\",\"PC72\",\"PC73\",\"PC74\",\"PC75\",\"PC76\",\"PC77\",\"PC78\",\"PC79\",\"PC80\",\"PC81\",\"PC82\",\"PC83\",\"PC84\",\"PC85\",\"PC86\",\"PC87\",\"PC88\",\"PC89\",\"PC90\",\"PC91\",\"PC92\",\"PC93\",\"PC94\",\"PC95\",\"PC96\",\"PC97\",\"PC98\",\"PC99\",\"PC100\",\"PC101\",\"PC102\",\"PC103\",\"PC104\",\"PC105\",\"PC106\",\"PC107\",\"PC108\",\"PC109\",\"PC110\",\"PC111\",\"PC112\",\"PC113\",\"PC114\",\"PC115\",\"PC116\",\"PC117\",\"PC118\",\"PC119\",\"PC120\",\"PC121\",\"PC122\",\"PC123\",\"PC124\",\"PC125\",\"PC126\",\"PC127\",\"PC128\",\"PC129\",\"PC130\",\"PC131\",\"PC132\",\"PC133\",\"PC134\",\"PC135\",\"PC136\",\"PC137\",\"PC138\",\"PC139\",\"PC140\",\"PC141\",\"PC142\",\"PC143\",\"PC144\",\"PC145\",\"PC146\",\"PC147\",\"PC148\",\"PC149\",\"PC150\",\"PC151\",\"PC152\",\"PC153\",\"PC154\",\"PC155\",\"PC156\",\"PC157\",\"PC158\",\"PC159\",\"PC160\",\"PC161\",\"PC162\",\"PC163\",\"PC164\",\"PC165\",\"PC166\",\"PC167\",\"PC168\",\"PC169\",\"PC170\",\"PC171\",\"PC172\",\"PC173\",\"PC174\",\"PC175\",\"PC176\",\"PC177\",\"PC178\",\"PC179\",\"PC180\",\"PC181\",\"PC182\",\"PC183\",\"PC184\",\"PC185\",\"PC186\",\"PC187\",\"PC188\",\"PC189\",\"PC190\",\"PC191\",\"PC192\",\"PC193\",\"PC194\",\"PC195\",\"PC196\",\"PC197\",\"PC198\",\"PC199\",\"PC200\",\"PC201\",\"PC202\",\"PC203\",\"PC204\",\"PC205\",\"PC206\",\"PC207\",\"PC208\",\"PC209\",\"PC210\",\"PC211\",\"PC212\",\"PC213\",\"PC214\",\"PC215\",\"PC216\",\"PC217\",\"PC218\",\"PC219\",\"PC220\",\"PC221\",\"PC222\",\"PC223\",\"PC224\",\"PC225\",\"PC226\",\"PC227\",\"PC228\",\"PC229\",\"PC230\",\"PC231\",\"PC232\",\"PC233\",\"PC234\",\"PC235\",\"PC236\",\"PC237\",\"PC238\",\"PC239\",\"PC240\",\"PC241\",\"PC242\",\"PC243\",\"PC244\",\"PC245\",\"PC246\",\"PC247\",\"PC248\",\"PC249\",\"PC250\",\"PC251\",\"PC252\",\"PC253\",\"PC254\",\"PC255\",\"PC256\",\"PC257\",\"PC258\",\"PC259\",\"PC260\",\"PC261\",\"PC262\",\"PC263\",\"PC264\",\"PC265\",\"PC266\",\"PC267\",\"PC268\",\"PC269\",\"PC270\",\"PC271\",\"PC272\",\"PC273\",\"PC274\",\"PC275\",\"PC276\",\"PC277\",\"PC278\",\"PC279\",\"PC280\",\"PC281\",\"PC282\",\"PC283\",\"PC284\",\"PC285\",\"PC286\",\"PC287\",\"PC288\",\"PC289\",\"PC290\",\"PC291\",\"PC292\",\"PC293\",\"PC294\",\"PC295\",\"PC296\",\"PC297\",\"PC298\",\"PC299\",\"PC300\",\"PC301\",\"PC302\",\"PC303\",\"PC304\",\"PC305\",\"PC306\",\"PC307\",\"PC308\",\"PC309\",\"PC310\",\"PC311\",\"PC312\",\"PC313\",\"PC314\",\"PC315\",\"PC316\",\"PC317\",\"PC318\",\"PC319\",\"PC320\",\"PC321\",\"PC322\",\"PC323\",\"PC324\",\"PC325\",\"PC326\",\"PC327\",\"PC328\",\"PC329\",\"PC330\",\"PC331\",\"PC332\",\"PC333\",\"PC334\",\"PC335\",\"PC336\",\"PC337\",\"PC338\",\"PC339\",\"PC340\",\"PC341\",\"PC342\",\"PC343\",\"PC344\",\"PC345\",\"PC346\",\"PC347\",\"PC348\",\"PC349\",\"PC350\",\"PC351\",\"PC352\",\"PC353\",\"PC354\",\"PC355\",\"PC356\",\"PC357\",\"PC358\",\"PC359\",\"PC360\",\"PC361\",\"PC362\",\"PC363\",\"PC364\",\"PC365\",\"PC366\",\"PC367\",\"PC368\",\"PC369\",\"PC370\",\"PC371\",\"PC372\",\"PC373\",\"PC374\",\"PC375\",\"PC376\",\"PC377\",\"PC378\",\"PC379\",\"PC380\",\"PC381\",\"PC382\",\"PC383\",\"PC384\",\"PC385\",\"PC386\",\"PC387\",\"PC388\",\"PC389\",\"PC390\",\"PC391\",\"PC392\",\"PC393\",\"PC394\",\"PC395\",\"PC396\",\"PC397\",\"PC398\",\"PC399\",\"PC400\",\"PC401\",\"PC402\",\"PC403\",\"PC404\",\"PC405\",\"PC406\",\"PC407\",\"PC408\",\"PC409\",\"PC410\",\"PC411\",\"PC412\",\"PC413\",\"PC414\",\"PC415\",\"PC416\",\"PC417\",\"PC418\",\"PC419\",\"PC420\",\"PC421\",\"PC422\",\"PC423\",\"PC424\",\"PC425\",\"PC426\",\"PC427\",\"PC428\",\"PC429\",\"PC430\",\"PC431\",\"PC432\",\"PC433\",\"PC434\",\"PC435\",\"PC436\",\"PC437\",\"PC438\",\"PC439\",\"PC440\",\"PC441\",\"PC442\",\"PC443\",\"PC444\",\"PC445\",\"PC446\",\"PC447\",\"PC448\",\"PC449\",\"PC450\",\"PC451\",\"PC452\",\"PC453\",\"PC454\",\"PC455\",\"PC456\",\"PC457\",\"PC458\",\"PC459\",\"PC460\",\"PC461\",\"PC462\",\"PC463\",\"PC464\",\"PC465\",\"PC466\",\"PC467\",\"PC468\",\"PC469\",\"PC470\",\"PC471\",\"PC472\",\"PC473\",\"PC474\",\"PC475\",\"PC476\",\"PC477\",\"PC478\",\"PC479\",\"PC480\",\"PC481\",\"PC482\",\"PC483\",\"PC484\",\"PC485\",\"PC486\",\"PC487\",\"PC488\",\"PC489\",\"PC490\",\"PC491\",\"PC492\",\"PC493\",\"PC494\",\"PC495\",\"PC496\",\"PC497\",\"PC498\",\"PC499\",\"PC500\",\"PC501\",\"PC502\",\"PC503\",\"PC504\",\"PC505\",\"PC506\",\"PC507\",\"PC508\",\"PC509\",\"PC510\",\"PC511\",\"PC512\",\"PC513\",\"PC514\",\"PC515\",\"PC516\",\"PC517\",\"PC518\",\"PC519\",\"PC520\",\"PC521\",\"PC522\",\"PC523\",\"PC524\",\"PC525\",\"PC526\",\"PC527\",\"PC528\",\"PC529\",\"PC530\",\"PC531\",\"PC532\",\"PC533\",\"PC534\",\"PC535\",\"PC536\",\"PC537\",\"PC538\",\"PC539\",\"PC540\",\"PC541\",\"PC542\",\"PC543\",\"PC544\",\"PC545\",\"PC546\",\"PC547\",\"PC548\",\"PC549\",\"PC550\",\"PC551\",\"PC552\",\"PC553\",\"PC554\",\"PC555\",\"PC556\",\"PC557\",\"PC558\",\"PC559\",\"PC560\",\"PC561\",\"PC562\",\"PC563\",\"PC564\",\"PC565\",\"PC566\",\"PC567\",\"PC568\",\"PC569\",\"PC570\",\"PC571\",\"PC572\",\"PC573\",\"PC574\",\"PC575\",\"PC576\",\"PC577\",\"PC578\",\"PC579\",\"PC580\",\"PC581\",\"PC582\",\"PC583\",\"PC584\",\"PC585\",\"PC586\",\"PC587\",\"PC588\",\"PC589\",\"PC590\",\"PC591\",\"PC592\",\"PC593\",\"PC594\",\"PC595\",\"PC596\",\"PC597\",\"PC598\",\"PC599\",\"PC600\",\"PC601\",\"PC602\",\"PC603\",\"PC604\",\"PC605\",\"PC606\",\"PC607\",\"PC608\",\"PC609\",\"PC610\",\"PC611\",\"PC612\",\"PC613\",\"PC614\",\"PC615\",\"PC616\",\"PC617\",\"PC618\",\"PC619\",\"PC620\",\"PC621\",\"PC622\",\"PC623\",\"PC624\",\"PC625\",\"PC626\",\"PC627\",\"PC628\",\"PC629\",\"PC630\",\"PC631\",\"PC632\",\"PC633\",\"PC634\",\"PC635\",\"PC636\",\"PC637\",\"PC638\",\"PC639\",\"PC640\",\"PC641\",\"PC642\",\"PC643\",\"PC644\",\"PC645\",\"PC646\",\"PC647\",\"PC648\",\"PC649\",\"PC650\",\"PC651\",\"PC652\",\"PC653\",\"PC654\",\"PC655\",\"PC656\",\"PC657\",\"PC658\",\"PC659\",\"PC660\",\"PC661\",\"PC662\",\"PC663\",\"PC664\",\"PC665\",\"PC666\",\"PC667\",\"PC668\",\"PC669\",\"PC670\",\"PC671\",\"PC672\",\"PC673\",\"PC674\",\"PC675\",\"PC676\",\"PC677\",\"PC678\",\"PC679\",\"PC680\",\"PC681\",\"PC682\",\"PC683\",\"PC684\",\"PC685\",\"PC686\",\"PC687\",\"PC688\",\"PC689\",\"PC690\",\"PC691\",\"PC692\",\"PC693\",\"PC694\",\"PC695\",\"PC696\",\"PC697\",\"PC698\",\"PC699\",\"PC700\",\"PC701\",\"PC702\",\"PC703\",\"PC704\",\"PC705\",\"PC706\",\"PC707\",\"PC708\",\"PC709\",\"PC710\",\"PC711\",\"PC712\",\"PC713\",\"PC714\",\"PC715\",\"PC716\",\"PC717\",\"PC718\",\"PC719\",\"PC720\",\"PC721\",\"PC722\",\"PC723\",\"PC724\",\"PC725\",\"PC726\",\"PC727\",\"PC728\",\"PC729\",\"PC730\",\"PC731\",\"PC732\",\"PC733\",\"PC734\",\"PC735\",\"PC736\",\"PC737\",\"PC738\",\"PC739\",\"PC740\",\"PC741\",\"PC742\",\"PC743\",\"PC744\",\"PC745\",\"PC746\",\"PC747\",\"PC748\",\"PC749\",\"PC750\",\"PC751\",\"PC752\",\"PC753\",\"PC754\",\"PC755\",\"PC756\",\"PC757\",\"PC758\",\"PC759\",\"PC760\",\"PC761\",\"PC762\",\"PC763\",\"PC764\",\"PC765\",\"PC766\",\"PC767\",\"PC768\",\"PC769\",\"PC770\",\"PC771\",\"PC772\",\"PC773\",\"PC774\",\"PC775\",\"PC776\",\"PC777\",\"PC778\",\"PC779\",\"PC780\",\"PC781\",\"PC782\",\"PC783\",\"PC784\",\"PC785\",\"PC786\",\"PC787\",\"PC788\",\"PC789\",\"PC790\",\"PC791\",\"PC792\",\"PC793\",\"PC794\",\"PC795\",\"PC796\",\"PC797\",\"PC798\",\"PC799\",\"PC800\",\"PC801\",\"PC802\",\"PC803\",\"PC804\",\"PC805\",\"PC806\",\"PC807\",\"PC808\",\"PC809\",\"PC810\",\"PC811\",\"PC812\",\"PC813\",\"PC814\",\"PC815\",\"PC816\",\"PC817\",\"PC818\",\"PC819\",\"PC820\",\"PC821\",\"PC822\",\"PC823\",\"PC824\",\"PC825\",\"PC826\",\"PC827\",\"PC828\",\"PC829\",\"PC830\",\"PC831\",\"PC832\",\"PC833\",\"PC834\",\"PC835\",\"PC836\",\"PC837\",\"PC838\",\"PC839\",\"PC840\",\"PC841\",\"PC842\",\"PC843\",\"PC844\",\"PC845\",\"PC846\",\"PC847\",\"PC848\",\"PC849\",\"PC850\",\"PC851\",\"PC852\",\"PC853\",\"PC854\",\"PC855\",\"PC856\",\"PC857\",\"PC858\",\"PC859\",\"PC860\",\"PC861\",\"PC862\",\"PC863\",\"PC864\",\"PC865\",\"PC866\",\"PC867\",\"PC868\",\"PC869\",\"PC870\",\"PC871\",\"PC872\",\"PC873\",\"PC874\",\"PC875\",\"PC876\",\"PC877\",\"PC878\",\"PC879\",\"PC880\",\"PC881\",\"PC882\",\"PC883\",\"PC884\",\"PC885\",\"PC886\",\"PC887\",\"PC888\",\"PC889\",\"PC890\",\"PC891\",\"PC892\",\"PC893\",\"PC894\",\"PC895\",\"PC896\",\"PC897\",\"PC898\",\"PC899\",\"PC900\",\"PC901\",\"PC902\",\"PC903\",\"PC904\",\"PC905\",\"PC906\",\"PC907\",\"PC908\",\"PC909\",\"PC910\",\"PC911\",\"PC912\",\"PC913\",\"PC914\",\"PC915\",\"PC916\",\"PC917\"],\"y\":[0.0,0.0,0.0,0.0,0.0,0.0,0.0,0.0,0.0,0.0,0.0,0.0,0.0,0.0,0.0,0.0,0.0,0.0,0.0,0.0,0.0,0.0,0.0,0.0,0.0,0.0,0.0,0.0,0.0,0.0,0.0,0.0,0.0,0.0,0.0,0.0,0.0,0.0,0.0,0.0,0.0,0.0,0.0,0.0,0.0,0.0,0.0,0.0,0.0,0.0,0.0,0.0,0.0,0.0,0.0,0.0,0.0,0.0,0.0,0.0,0.0,0.0,0.0,0.0,0.0,0.0,0.0,0.0,0.0,0.0,0.0,0.0,0.0,0.0,0.0,0.0,0.0,0.0,0.0,0.0,0.0,0.0,0.0,0.0,0.0,0.0,0.0,0.0,0.0,0.0,0.0,0.0,0.0,0.0,0.0,0.0,0.0,0.0,0.0,0.0,0.0,0.0,0.0,0.0,0.0,0.0,0.0,0.0,0.0,0.0,0.0,0.0,0.0,0.0,0.0,0.0,0.0,0.0,0.0,0.0,0.0,0.0,0.0,0.0,0.0,0.0,0.0,0.0,0.0,0.0,0.0,0.0,0.0,0.0,0.0,0.0,0.0,0.0,0.0,0.0,0.0,0.0,0.0,0.0,0.0,0.0,0.0,0.0,0.0,0.0,0.0,0.0,0.0,0.0,0.0,0.0,0.0,0.0,0.0,0.0,0.0,0.0,0.0,0.0,0.0,0.0,0.0,0.0,0.0,0.0,0.0,0.0,0.0,0.0,0.0,0.0,0.0,0.0,0.0,0.0,0.0,0.0,0.0,0.0,0.0,0.0,0.0,0.0,0.0,0.0,0.0,0.0,0.0,0.0,0.0,0.0,0.0,0.0,0.0,0.0,0.0,0.0,0.0,0.0,0.0,0.0,0.0,0.0,0.0,0.0,0.0,0.0,0.0,0.0,0.0,0.0,0.0,0.0,0.0,0.0,0.0,0.0,0.0,0.0,0.0,0.0,0.0,0.0,0.0,0.0,0.0,0.0,0.0,0.0,0.0,0.0,0.0,0.0,0.0,0.0,0.0,0.0,0.0,0.0,0.0,0.0,0.0,0.0,0.0,0.0,0.0,0.0,0.0,0.0,0.0,0.0,0.0,0.0,0.0,0.0,0.0,0.0,0.0,0.0,0.0,0.0,0.0,0.0,0.0,0.0,0.0,0.0,0.0,0.0,0.0,0.0,0.0,0.0,0.0,0.0,0.0,0.0,0.0,0.0,0.0,0.0,0.0,0.0,0.0,0.0,0.0,0.0,0.0,0.0,0.0,0.0,0.0,0.0,0.0,0.0,0.0,0.0,0.0,0.0,0.0,0.0,0.0,0.0,0.0,0.0,0.0,0.0,0.0,0.0,0.0,0.0,0.0,0.0,0.0,0.0,0.0,0.0,0.0,0.0,0.0,0.0,0.0,0.0,0.0,0.0,0.0,0.0,0.0,0.0,0.0,0.0,0.0,0.0,0.0,0.0,0.0,0.0,0.0,0.0,0.0,0.0,0.0,0.0,0.0,0.0,0.0,0.0,0.0,0.0,0.0,0.0,0.0,0.0,0.0,0.0,0.0,0.0,0.0,0.0,0.0,0.0,0.0,0.0,0.0,0.0,0.0,0.0,0.0,0.0,0.0,0.0,0.0,0.0,0.0,0.0,0.0,0.0,0.0,0.0,0.0,0.0,0.0,0.0,0.0,0.0,0.0,0.0,0.0,0.0,0.0,0.0,0.0,0.0,0.0,0.0,0.0,0.0,0.0,0.0,0.0,0.0,0.0,0.0,0.0,0.0,0.0,0.0,0.0,0.0,0.0,0.0,0.0,0.0,0.0,0.0,0.0,0.0,0.0,0.0,0.0,0.0,0.0,0.0,0.0,0.0,0.0,0.0,0.0,0.0,0.0,0.0,0.0,0.0,0.0,0.0,0.0,0.0,0.0,0.0,0.0,0.0,0.0,0.0,0.0,0.0,0.0,0.0,0.0,0.0,0.0,0.0,0.0,0.0,0.0,0.0,0.0,0.0,0.0,0.0,0.0,0.0,0.0,0.0,0.0,0.0,0.0,0.0,0.0,0.0,0.0,0.0,0.0,0.0,0.0,0.0,0.0,0.0,0.0,0.0,0.0,0.0,0.0,0.0,0.0,0.0,0.0,0.0,0.0,0.0,0.0,0.0,0.0,0.0,0.0,0.0,0.0,0.0,0.0,0.0,0.0,0.0,0.0,0.0,0.0,0.0,0.0,0.0,0.0,0.0,0.0,0.0,0.0,0.0,0.0,0.0,0.0,0.0,0.0,0.0,0.0,0.0,0.0,0.0,0.0,0.0,0.0,0.0,0.0,0.0,0.0,0.0,0.0,0.0,0.0,0.0,0.0,0.0,0.0,0.0,0.0,0.0,0.0,0.0,0.0,0.0,0.0,0.0,0.0,0.0,0.0,0.0,0.0,0.0,0.0,0.0,0.0,0.0,0.0,0.0,0.0,0.0,0.0,0.0,0.0,0.0,0.0,0.0,0.0,0.0,0.0,0.0,0.0,0.0,0.0,0.0,0.0,0.0,0.0,0.0,0.0,0.0,0.0,0.0,0.0,0.0,0.0,0.0,0.0,0.0,0.0,0.0,0.0,0.0,0.0,0.0,0.0,0.0,0.0,0.0,0.0,0.0,0.0,0.0,0.0,0.0,0.0,0.0,0.0,0.0,0.0,0.0,0.0,0.0,0.0,0.0,0.0,0.0,0.0,0.0,0.0,0.0,0.0,0.0,0.0,0.0,0.0,0.0,0.0,0.0,0.0,0.0,0.0,0.0,0.0,0.0,0.0,0.0,0.0,0.0,0.0,0.0,0.0,0.0,0.0,0.0,0.0,0.0,0.0,0.0,0.0,0.0,0.0,0.0,0.0,0.0,0.0,0.0,0.0,0.0,0.0,0.0,0.0,0.0,0.0,0.0,0.0,0.0,0.0,0.0,0.0,0.0,0.0,0.0,0.0,0.0,0.0,0.0,0.0,0.0,0.0,0.0,0.0,0.0,0.0,0.0,0.0,0.0,0.0,0.0,0.0,0.0,0.0,0.0,0.0,0.0,0.0,0.0,0.0,0.0,0.0,0.0,0.0,0.0,0.0,0.0,0.0,0.0,0.0,0.0,0.0,0.0,0.0,0.0,0.0,0.0,0.0,0.0,0.0,0.0,0.0,0.0,0.0,0.0,0.0,0.0,0.0,0.0,0.0,0.0,0.0,0.0,0.0,0.0,0.0,0.0,0.0,0.0,0.0,0.0,0.0,0.0,0.0,0.0,0.0,0.0,0.0,0.0,0.0,0.0,0.0,0.0,0.0,0.0,0.0,0.0,0.0,0.0,0.0,0.0,0.0,0.0,0.0,0.0,0.0,0.0,0.0,0.0,0.0,0.0,0.0,0.0,0.0,0.0,0.0,0.0,0.0,0.0,0.0,0.0,0.0,0.0,0.0,0.0,0.0,0.0,0.0,0.0,0.0,0.0,0.0,0.0,0.0,0.0,0.0,0.0,0.0,0.0,0.0,0.0,0.0,0.0,0.0,0.0,0.0,0.0,0.0,0.0,0.0,0.0,0.0,0.0,0.0,0.0,0.0,0.0,0.0,0.0,0.0,0.0,0.0,0.0,0.0,0.0,0.0,0.0,0.0,0.0,0.0,0.0,0.0,0.0,0.0,0.0,0.0,0.0,0.0,0.0,0.0,0.0,0.0,0.0,0.0,0.0,0.0,0.0,0.0,0.0,0.0,0.0,0.0,0.0,0.0,0.0,0.0,0.0,0.0,0.0,0.0,0.0,0.0,0.0,0.0,0.0,0.0,0.0,0.0,0.0,0.0,0.0,0.0,0.0,0.0,0.0,0.0,0.0,0.0,0.0,0.0,0.0,0.0,0.0,0.0,0.0,0.0,0.0,0.0,0.0,0.0,0.0,0.0,0.0,0.0,0.0,0.0,0.0,0.0,0.0,0.0,0.0,0.0,0.0,0.0,0.0,0.0,0.0,0.0,0.0,0.0,0.0,0.0,0.0,0.0,0.0],\"type\":\"scatter\"}],                        {\"template\":{\"data\":{\"histogram2dcontour\":[{\"type\":\"histogram2dcontour\",\"colorbar\":{\"outlinewidth\":0,\"ticks\":\"\"},\"colorscale\":[[0.0,\"#0d0887\"],[0.1111111111111111,\"#46039f\"],[0.2222222222222222,\"#7201a8\"],[0.3333333333333333,\"#9c179e\"],[0.4444444444444444,\"#bd3786\"],[0.5555555555555556,\"#d8576b\"],[0.6666666666666666,\"#ed7953\"],[0.7777777777777778,\"#fb9f3a\"],[0.8888888888888888,\"#fdca26\"],[1.0,\"#f0f921\"]]}],\"choropleth\":[{\"type\":\"choropleth\",\"colorbar\":{\"outlinewidth\":0,\"ticks\":\"\"}}],\"histogram2d\":[{\"type\":\"histogram2d\",\"colorbar\":{\"outlinewidth\":0,\"ticks\":\"\"},\"colorscale\":[[0.0,\"#0d0887\"],[0.1111111111111111,\"#46039f\"],[0.2222222222222222,\"#7201a8\"],[0.3333333333333333,\"#9c179e\"],[0.4444444444444444,\"#bd3786\"],[0.5555555555555556,\"#d8576b\"],[0.6666666666666666,\"#ed7953\"],[0.7777777777777778,\"#fb9f3a\"],[0.8888888888888888,\"#fdca26\"],[1.0,\"#f0f921\"]]}],\"heatmap\":[{\"type\":\"heatmap\",\"colorbar\":{\"outlinewidth\":0,\"ticks\":\"\"},\"colorscale\":[[0.0,\"#0d0887\"],[0.1111111111111111,\"#46039f\"],[0.2222222222222222,\"#7201a8\"],[0.3333333333333333,\"#9c179e\"],[0.4444444444444444,\"#bd3786\"],[0.5555555555555556,\"#d8576b\"],[0.6666666666666666,\"#ed7953\"],[0.7777777777777778,\"#fb9f3a\"],[0.8888888888888888,\"#fdca26\"],[1.0,\"#f0f921\"]]}],\"heatmapgl\":[{\"type\":\"heatmapgl\",\"colorbar\":{\"outlinewidth\":0,\"ticks\":\"\"},\"colorscale\":[[0.0,\"#0d0887\"],[0.1111111111111111,\"#46039f\"],[0.2222222222222222,\"#7201a8\"],[0.3333333333333333,\"#9c179e\"],[0.4444444444444444,\"#bd3786\"],[0.5555555555555556,\"#d8576b\"],[0.6666666666666666,\"#ed7953\"],[0.7777777777777778,\"#fb9f3a\"],[0.8888888888888888,\"#fdca26\"],[1.0,\"#f0f921\"]]}],\"contourcarpet\":[{\"type\":\"contourcarpet\",\"colorbar\":{\"outlinewidth\":0,\"ticks\":\"\"}}],\"contour\":[{\"type\":\"contour\",\"colorbar\":{\"outlinewidth\":0,\"ticks\":\"\"},\"colorscale\":[[0.0,\"#0d0887\"],[0.1111111111111111,\"#46039f\"],[0.2222222222222222,\"#7201a8\"],[0.3333333333333333,\"#9c179e\"],[0.4444444444444444,\"#bd3786\"],[0.5555555555555556,\"#d8576b\"],[0.6666666666666666,\"#ed7953\"],[0.7777777777777778,\"#fb9f3a\"],[0.8888888888888888,\"#fdca26\"],[1.0,\"#f0f921\"]]}],\"surface\":[{\"type\":\"surface\",\"colorbar\":{\"outlinewidth\":0,\"ticks\":\"\"},\"colorscale\":[[0.0,\"#0d0887\"],[0.1111111111111111,\"#46039f\"],[0.2222222222222222,\"#7201a8\"],[0.3333333333333333,\"#9c179e\"],[0.4444444444444444,\"#bd3786\"],[0.5555555555555556,\"#d8576b\"],[0.6666666666666666,\"#ed7953\"],[0.7777777777777778,\"#fb9f3a\"],[0.8888888888888888,\"#fdca26\"],[1.0,\"#f0f921\"]]}],\"mesh3d\":[{\"type\":\"mesh3d\",\"colorbar\":{\"outlinewidth\":0,\"ticks\":\"\"}}],\"scatter\":[{\"fillpattern\":{\"fillmode\":\"overlay\",\"size\":10,\"solidity\":0.2},\"type\":\"scatter\"}],\"parcoords\":[{\"type\":\"parcoords\",\"line\":{\"colorbar\":{\"outlinewidth\":0,\"ticks\":\"\"}}}],\"scatterpolargl\":[{\"type\":\"scatterpolargl\",\"marker\":{\"colorbar\":{\"outlinewidth\":0,\"ticks\":\"\"}}}],\"bar\":[{\"error_x\":{\"color\":\"#2a3f5f\"},\"error_y\":{\"color\":\"#2a3f5f\"},\"marker\":{\"line\":{\"color\":\"#E5ECF6\",\"width\":0.5},\"pattern\":{\"fillmode\":\"overlay\",\"size\":10,\"solidity\":0.2}},\"type\":\"bar\"}],\"scattergeo\":[{\"type\":\"scattergeo\",\"marker\":{\"colorbar\":{\"outlinewidth\":0,\"ticks\":\"\"}}}],\"scatterpolar\":[{\"type\":\"scatterpolar\",\"marker\":{\"colorbar\":{\"outlinewidth\":0,\"ticks\":\"\"}}}],\"histogram\":[{\"marker\":{\"pattern\":{\"fillmode\":\"overlay\",\"size\":10,\"solidity\":0.2}},\"type\":\"histogram\"}],\"scattergl\":[{\"type\":\"scattergl\",\"marker\":{\"colorbar\":{\"outlinewidth\":0,\"ticks\":\"\"}}}],\"scatter3d\":[{\"type\":\"scatter3d\",\"line\":{\"colorbar\":{\"outlinewidth\":0,\"ticks\":\"\"}},\"marker\":{\"colorbar\":{\"outlinewidth\":0,\"ticks\":\"\"}}}],\"scattermapbox\":[{\"type\":\"scattermapbox\",\"marker\":{\"colorbar\":{\"outlinewidth\":0,\"ticks\":\"\"}}}],\"scatterternary\":[{\"type\":\"scatterternary\",\"marker\":{\"colorbar\":{\"outlinewidth\":0,\"ticks\":\"\"}}}],\"scattercarpet\":[{\"type\":\"scattercarpet\",\"marker\":{\"colorbar\":{\"outlinewidth\":0,\"ticks\":\"\"}}}],\"carpet\":[{\"aaxis\":{\"endlinecolor\":\"#2a3f5f\",\"gridcolor\":\"white\",\"linecolor\":\"white\",\"minorgridcolor\":\"white\",\"startlinecolor\":\"#2a3f5f\"},\"baxis\":{\"endlinecolor\":\"#2a3f5f\",\"gridcolor\":\"white\",\"linecolor\":\"white\",\"minorgridcolor\":\"white\",\"startlinecolor\":\"#2a3f5f\"},\"type\":\"carpet\"}],\"table\":[{\"cells\":{\"fill\":{\"color\":\"#EBF0F8\"},\"line\":{\"color\":\"white\"}},\"header\":{\"fill\":{\"color\":\"#C8D4E3\"},\"line\":{\"color\":\"white\"}},\"type\":\"table\"}],\"barpolar\":[{\"marker\":{\"line\":{\"color\":\"#E5ECF6\",\"width\":0.5},\"pattern\":{\"fillmode\":\"overlay\",\"size\":10,\"solidity\":0.2}},\"type\":\"barpolar\"}],\"pie\":[{\"automargin\":true,\"type\":\"pie\"}]},\"layout\":{\"autotypenumbers\":\"strict\",\"colorway\":[\"#636efa\",\"#EF553B\",\"#00cc96\",\"#ab63fa\",\"#FFA15A\",\"#19d3f3\",\"#FF6692\",\"#B6E880\",\"#FF97FF\",\"#FECB52\"],\"font\":{\"color\":\"#2a3f5f\"},\"hovermode\":\"closest\",\"hoverlabel\":{\"align\":\"left\"},\"paper_bgcolor\":\"white\",\"plot_bgcolor\":\"#E5ECF6\",\"polar\":{\"bgcolor\":\"#E5ECF6\",\"angularaxis\":{\"gridcolor\":\"white\",\"linecolor\":\"white\",\"ticks\":\"\"},\"radialaxis\":{\"gridcolor\":\"white\",\"linecolor\":\"white\",\"ticks\":\"\"}},\"ternary\":{\"bgcolor\":\"#E5ECF6\",\"aaxis\":{\"gridcolor\":\"white\",\"linecolor\":\"white\",\"ticks\":\"\"},\"baxis\":{\"gridcolor\":\"white\",\"linecolor\":\"white\",\"ticks\":\"\"},\"caxis\":{\"gridcolor\":\"white\",\"linecolor\":\"white\",\"ticks\":\"\"}},\"coloraxis\":{\"colorbar\":{\"outlinewidth\":0,\"ticks\":\"\"}},\"colorscale\":{\"sequential\":[[0.0,\"#0d0887\"],[0.1111111111111111,\"#46039f\"],[0.2222222222222222,\"#7201a8\"],[0.3333333333333333,\"#9c179e\"],[0.4444444444444444,\"#bd3786\"],[0.5555555555555556,\"#d8576b\"],[0.6666666666666666,\"#ed7953\"],[0.7777777777777778,\"#fb9f3a\"],[0.8888888888888888,\"#fdca26\"],[1.0,\"#f0f921\"]],\"sequentialminus\":[[0.0,\"#0d0887\"],[0.1111111111111111,\"#46039f\"],[0.2222222222222222,\"#7201a8\"],[0.3333333333333333,\"#9c179e\"],[0.4444444444444444,\"#bd3786\"],[0.5555555555555556,\"#d8576b\"],[0.6666666666666666,\"#ed7953\"],[0.7777777777777778,\"#fb9f3a\"],[0.8888888888888888,\"#fdca26\"],[1.0,\"#f0f921\"]],\"diverging\":[[0,\"#8e0152\"],[0.1,\"#c51b7d\"],[0.2,\"#de77ae\"],[0.3,\"#f1b6da\"],[0.4,\"#fde0ef\"],[0.5,\"#f7f7f7\"],[0.6,\"#e6f5d0\"],[0.7,\"#b8e186\"],[0.8,\"#7fbc41\"],[0.9,\"#4d9221\"],[1,\"#276419\"]]},\"xaxis\":{\"gridcolor\":\"white\",\"linecolor\":\"white\",\"ticks\":\"\",\"title\":{\"standoff\":15},\"zerolinecolor\":\"white\",\"automargin\":true,\"zerolinewidth\":2},\"yaxis\":{\"gridcolor\":\"white\",\"linecolor\":\"white\",\"ticks\":\"\",\"title\":{\"standoff\":15},\"zerolinecolor\":\"white\",\"automargin\":true,\"zerolinewidth\":2},\"scene\":{\"xaxis\":{\"backgroundcolor\":\"#E5ECF6\",\"gridcolor\":\"white\",\"linecolor\":\"white\",\"showbackground\":true,\"ticks\":\"\",\"zerolinecolor\":\"white\",\"gridwidth\":2},\"yaxis\":{\"backgroundcolor\":\"#E5ECF6\",\"gridcolor\":\"white\",\"linecolor\":\"white\",\"showbackground\":true,\"ticks\":\"\",\"zerolinecolor\":\"white\",\"gridwidth\":2},\"zaxis\":{\"backgroundcolor\":\"#E5ECF6\",\"gridcolor\":\"white\",\"linecolor\":\"white\",\"showbackground\":true,\"ticks\":\"\",\"zerolinecolor\":\"white\",\"gridwidth\":2}},\"shapedefaults\":{\"line\":{\"color\":\"#2a3f5f\"}},\"annotationdefaults\":{\"arrowcolor\":\"#2a3f5f\",\"arrowhead\":0,\"arrowwidth\":1},\"geo\":{\"bgcolor\":\"white\",\"landcolor\":\"#E5ECF6\",\"subunitcolor\":\"white\",\"showland\":true,\"showlakes\":true,\"lakecolor\":\"white\"},\"title\":{\"x\":0.05},\"mapbox\":{\"style\":\"light\"}}},\"title\":{\"text\":\"PCA Permutation Test p-values\"}},                        {\"responsive\": true}                    ).then(function(){\n",
       "                            \n",
       "var gd = document.getElementById('b4ed1e1a-f933-4bd5-be64-9af6312e526b');\n",
       "var x = new MutationObserver(function (mutations, observer) {{\n",
       "        var display = window.getComputedStyle(gd).display;\n",
       "        if (!display || display === 'none') {{\n",
       "            console.log([gd, 'removed!']);\n",
       "            Plotly.purge(gd);\n",
       "            observer.disconnect();\n",
       "        }}\n",
       "}});\n",
       "\n",
       "// Listen for the removal of the full notebook cells\n",
       "var notebookContainer = gd.closest('#notebook-container');\n",
       "if (notebookContainer) {{\n",
       "    x.observe(notebookContainer, {childList: true});\n",
       "}}\n",
       "\n",
       "// Listen for the clearing of the current output cell\n",
       "var outputEl = gd.closest('.output');\n",
       "if (outputEl) {{\n",
       "    x.observe(outputEl, {childList: true});\n",
       "}}\n",
       "\n",
       "                        })                };                });            </script>        </div>"
      ]
     },
     "metadata": {},
     "output_type": "display_data"
    }
   ],
   "source": [
    "import plotly.graph_objects as go\n",
    "p_val = np.sum(variance > original_variance, axis=0) / N_permutations\n",
    "fig = go.Figure()\n",
    "fig.add_trace(go.Scatter(x=[f'PC{i}' for i in range(len(X_train.columns))], y=p_val, name='p-value on significance'))\n",
    "fig.update_layout(title=\"PCA Permutation Test p-values\")"
   ]
  },
  {
   "cell_type": "markdown",
   "id": "08e03b5a",
   "metadata": {},
   "source": [
    "### Artificial Neural Network"
   ]
  },
  {
   "cell_type": "code",
   "execution_count": 32,
   "id": "5392fad8",
   "metadata": {},
   "outputs": [
    {
     "name": "stdout",
     "output_type": "stream",
     "text": [
      "Training time:  22422.9 \tmins\n"
     ]
    }
   ],
   "source": [
    "from sklearn.model_selection import cross_val_score\n",
    "from sklearn.model_selection import StratifiedKFold\n",
    "from sklearn.neural_network import MLPClassifier\n",
    "\n",
    "\n",
    "optimizer = 'adam'\n",
    "activation_function = 'relu'\n",
    "hidden_layer_neurons = (5,5,8,7,9,5)\n",
    "learning_rate = 0.001\n",
    "learning_rate_schedule = 'adaptive'\n",
    "\n",
    "clf = MLPClassifier(solver=optimizer, alpha=1e-5,\n",
    "                    activation=activation_function,\n",
    "                    hidden_layer_sizes=hidden_layer_neurons,\n",
    "                    learning_rate_init=learning_rate,\n",
    "                    learning_rate = learning_rate_schedule)\n",
    "\n",
    "# nn_clf_1 = clf.fit(X_train, y_train)\n",
    "\n",
    "# Create StratifiedKFold object.\n",
    "skf = StratifiedKFold(n_splits=5, shuffle=False, random_state=None)\n",
    "lst_accu_stratified = []\n",
    "\n",
    "start = timer() \n",
    "    \n",
    "for train_index, test_index in skf.split(X_train, y_train):\n",
    "    x_train_fold, x_test_fold = X_train.iloc[train_index,:], X_train.iloc[test_index,:]\n",
    "    y_train_fold, y_test_fold = y_train.iloc[train_index], y_train.iloc[test_index]\n",
    "    clf.fit(x_train_fold, y_train_fold)\n",
    "    lst_accu_stratified.append(clf.score(x_test_fold, y_test_fold))\n",
    "  \n",
    "print('Training time: ', round(timer() - start /60, 2), '\\mins')"
   ]
  },
  {
   "cell_type": "code",
   "execution_count": 33,
   "id": "3cb78d24",
   "metadata": {},
   "outputs": [
    {
     "name": "stdout",
     "output_type": "stream",
     "text": [
      "List of possible accuracy:\n",
      "\n",
      " [0.887094489304434, 0.88813335222175, 0.8873935559018432, 0.890494404306559, 0.8895499834726354]\n",
      "\n",
      " Model = \n",
      "     \n",
      " optimizer = sgd,     \n",
      " activation function for hidden layers = relu,     \n",
      " Neurons in each hidden layer = (5, 5, 8, 7, 9, 5),     \n",
      " learning_rate = 0.001,     \n",
      " learning_rate_schedule = adaptive     \n",
      " number of iters = 200,     \n",
      " activation function for output layer = logistic \n",
      "\n",
      "Maximum Accuracy That can be obtained from this model is: 89.0494404306559 %\n",
      "\n",
      "Minimum Accuracy: 88.7094489304434 %\n",
      "\n",
      "Overall Accuracy: 88.85331570414444 %\n",
      "\n",
      "Standard Deviation is: 0.0012968212162695247\n"
     ]
    }
   ],
   "source": [
    "# Print the output.\n",
    "print('List of possible accuracy:\\n\\n', lst_accu_stratified)\n",
    "print(f'\\n Model = \\n \\\n",
    "    \\n optimizer = {optimizer}, \\\n",
    "    \\n activation function for hidden layers = {activation_function}, \\\n",
    "    \\n Neurons in each hidden layer = {hidden_layer_neurons}, \\\n",
    "    \\n learning_rate = {learning_rate}, \\\n",
    "    \\n learning_rate_schedule = {learning_rate_schedule} \\\n",
    "    \\n number of iters = {clf.n_iter_}, \\\n",
    "    \\n activation function for output layer = {clf.out_activation_} ' ) \n",
    "print(f'\\nMaximum Accuracy That can be obtained from this model is:',max(lst_accu_stratified)*100, '%')\n",
    "print('\\nMinimum Accuracy:', min(lst_accu_stratified)*100, '%')\n",
    "print('\\nOverall Accuracy:', np.mean(lst_accu_stratified)*100, '%')\n",
    "print('\\nStandard Deviation is:', np.std(lst_accu_stratified))"
   ]
  },
  {
   "cell_type": "code",
   "execution_count": 34,
   "id": "9bcf93b8",
   "metadata": {},
   "outputs": [
    {
     "data": {
      "text/plain": [
       "<sklearn.metrics._plot.confusion_matrix.ConfusionMatrixDisplay at 0x22d481d3c08>"
      ]
     },
     "execution_count": 34,
     "metadata": {},
     "output_type": "execute_result"
    },
    {
     "data": {
      "image/png": "[encoded data removed]",
      "text/plain": [
       "<Figure size 640x480 with 2 Axes>"
      ]
     },
     "metadata": {},
     "output_type": "display_data"
    }
   ],
   "source": [
    "# X_test = X_test.drop(columns=corr_features, axis=1)\n",
    "sm.plot_confusion_matrix(clf, X_test, y_test, display_labels=['Non-Default', 'Default'])"
   ]
  },
  {
   "cell_type": "code",
   "execution_count": 35,
   "id": "017a1c77",
   "metadata": {},
   "outputs": [
    {
     "name": "stdout",
     "output_type": "stream",
     "text": [
      "              precision    recall  f1-score   support\n",
      "\n",
      "           0       0.92      0.92      0.92    101107\n",
      "           1       0.78      0.78      0.78     35031\n",
      "\n",
      "    accuracy                           0.89    136138\n",
      "   macro avg       0.85      0.85      0.85    136138\n",
      "weighted avg       0.89      0.89      0.89    136138\n",
      "\n"
     ]
    }
   ],
   "source": [
    "# X_test = X_test.drop(columns=corr_features, axis=1)\n",
    "y_pred = clf.predict(X_test)\n",
    "\n",
    "# Import Classification report\n",
    "from sklearn.metrics import classification_report\n",
    "\n",
    "print(classification_report(y_test, y_pred))"
   ]
  },
  {
   "cell_type": "markdown",
   "id": "43e33702",
   "metadata": {},
   "source": [
    "-----------"
   ]
  }
 ],
 "metadata": {
  "kernelspec": {
   "display_name": "Python 3 (ipykernel)",
   "language": "python",
   "name": "python3"
  },
  "language_info": {
   "codemirror_mode": {
    "name": "ipython",
    "version": 3
   },
   "file_extension": ".py",
   "mimetype": "text/x-python",
   "name": "python",
   "nbconvert_exporter": "python",
   "pygments_lexer": "ipython3",
   "version": "3.9.7"
  }
 },
 "nbformat": 4,
 "nbformat_minor": 5
}
